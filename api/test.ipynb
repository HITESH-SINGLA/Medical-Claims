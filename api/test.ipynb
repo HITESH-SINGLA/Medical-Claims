{
 "cells": [
  {
   "cell_type": "code",
   "execution_count": null,
   "metadata": {},
   "outputs": [],
   "source": [
    "\n"
   ]
  },
  {
   "cell_type": "code",
   "execution_count": 1,
   "metadata": {},
   "outputs": [],
   "source": [
    "from database import get_database"
   ]
  },
  {
   "cell_type": "code",
   "execution_count": 2,
   "metadata": {},
   "outputs": [
    {
     "ename": "NameError",
     "evalue": "name 'username' is not defined",
     "output_type": "error",
     "traceback": [
      "\u001b[1;31m---------------------------------------------------------------------------\u001b[0m",
      "\u001b[1;31mNameError\u001b[0m                                 Traceback (most recent call last)",
      "Cell \u001b[1;32mIn[2], line 1\u001b[0m\n\u001b[1;32m----> 1\u001b[0m conn \u001b[38;5;241m=\u001b[39m get_database(\u001b[43musername\u001b[49m, password)\n",
      "\u001b[1;31mNameError\u001b[0m: name 'username' is not defined"
     ]
    }
   ],
   "source": [
    "conn = get_database(username, password)"
   ]
  },
  {
   "cell_type": "code",
   "execution_count": 3,
   "metadata": {},
   "outputs": [],
   "source": [
    "import psycopg2\n",
    "\n",
    "def get_db_connection():\n",
    "    try:\n",
    "        # Update the connection parameters according to your database\n",
    "        connection = psycopg2.connect(\n",
    "            dbname=\"ccllhwkz\",\n",
    "            user=\"ccllhwkz\",\n",
    "            password=\"L95oB6NUPitwNQfsCBb4fqhYkFtu1oAS\",\n",
    "            host=\"abul.db.elephantsql.com\"\n",
    "        )\n",
    "        print(\"Connected to the database\")\n",
    "        return connection\n",
    "    except psycopg2.Error as e:\n",
    "        print(\"Error connecting to the database:\", e)\n",
    "        return None\n",
    "\n"
   ]
  },
  {
   "cell_type": "code",
   "execution_count": 4,
   "metadata": {},
   "outputs": [],
   "source": [
    "def run_query(query):\n",
    "    connection = get_db_connection()\n",
    "    if connection is not None:\n",
    "        try:\n",
    "            cursor = connection.cursor()\n",
    "            cursor.execute(query)\n",
    "            result = cursor.fetchall()  # Fetch all rows from the result set\n",
    "            for row in result:\n",
    "                print(row)  # Print each row\n",
    "            print(\"Query executed successfully\")\n",
    "        except psycopg2.Error as e:\n",
    "            print(\"Error executing query:\", e)\n",
    "        finally:\n",
    "            connection.close()\n",
    "\n",
    "\n"
   ]
  },
  {
   "cell_type": "code",
   "execution_count": null,
   "metadata": {},
   "outputs": [
    {
     "name": "stdout",
     "output_type": "stream",
     "text": [
      "Connected to the database\n",
      "Dummy entries inserted into the login table successfully.\n",
      "Connected to the database\n",
      "Dummy entries inserted into the data table successfully.\n"
     ]
    }
   ],
   "source": [
    "def insert_dummy_data_entries():\n",
    "    try:\n",
    "        connection = get_db_connection()  # Replace with your function to get a database connection\n",
    "        cursor = connection.cursor()\n",
    "        \n",
    "        # Insert three dummy entries into the data table\n",
    "        for i in range(1, 4):\n",
    "            cursor.execute(\"INSERT INTO data (application_id, table_data) VALUES (%s, 'Dummy data %s')\" % (i, i))\n",
    "        \n",
    "        # Commit the transaction\n",
    "        connection.commit()\n",
    "        \n",
    "        # Close the cursor and connection\n",
    "        cursor.close()\n",
    "        connection.close()\n",
    "        \n",
    "        print(\"Dummy entries inserted into the data table successfully.\")\n",
    "        \n",
    "    except psycopg2.Error as e:\n",
    "        print(\"Error:\", e)\n",
    "def insert_dummy_login_entries():\n",
    "    try:\n",
    "        connection = get_db_connection()  # Replace with your function to get a database connection\n",
    "        cursor = connection.cursor()\n",
    "        \n",
    "        # Insert three dummy entries into the login table\n",
    "        cursor.execute(\"INSERT INTO login (email) VALUES ('user1@example.com'), ('user2@example.com'), ('user3@example.com')\")\n",
    "        \n",
    "        # Commit the transaction\n",
    "        connection.commit()\n",
    "        \n",
    "        # Close the cursor and connection\n",
    "        cursor.close()\n",
    "        connection.close()\n",
    "        \n",
    "        print(\"Dummy entries inserted into the login table successfully.\")\n",
    "        \n",
    "    except psycopg2.Error as e:\n",
    "        print(\"Error:\", e)\n",
    "insert_dummy_login_entries()\n",
    "insert_dummy_data_entries()\n",
    "# Call functions for basicdetails and application tables here\n"
   ]
  },
  {
   "cell_type": "code",
   "execution_count": 10,
   "metadata": {},
   "outputs": [
    {
     "name": "stdout",
     "output_type": "stream",
     "text": [
      "Connected to the database\n",
      "(2, '2021csb1094@iitrpr.ac.in', '{\"user\": {\"Mobile_number\": \"919050477612\", \"address\": \"Indian Institute Of Technology Ropar Nangal Road Hussainpur\", \"ammount_details\": \"1\", \"email\": \"2021csb1094@iitrpr.ac.in\", \"employee_code_no\": \"1\", \"martial_status\": \"no\", \"name\": \"hitesh\", \"page_no\": 1, \"partner_place\": \"na\", \"pay\": \"100000\", \"place_fell_ill\": \"dsa\", \"relation\": \"asf\"}}', '{\"user\": {\"costMedicine\": \"\", \"email\": \"2021csb1094@iitrpr.ac.in\", \"hospitalName\": \"\", \"name\": \"\", \"numDatesFeeCon\": \"\", \"numDatesFeeInj\": \"\", \"page_no\": 2}}', '{\"user\": {\"amountClaimed\": \"1\", \"date\": \"\", \"email\": \"2021csb1094@iitrpr.ac.in\", \"lessAdvTaken\": \"\", \"lstOfEncl\": \"\", \"name\": \"\", \"netAmntClaimed\": \"-38\", \"numDateCon\": \"\", \"page_no\": 3}}', '{\"user\": {\"date\": \"2024-02-21\", \"email\": \"2021csb1094@iitrpr.ac.in\", \"imgs\": [{\"name\": \"2.2.png\", \"url\": \"https://firebasestorage.googleapis.com/v0/b/dep-2023-t17.appspot.com/o/2%2F2.2.png?alt=media&token=2fdd202d-1487-454c-80df-0c86dbb80e18\"}, {\"name\": \"1.1.png\", \"url\": \"https://firebasestorage.googleapis.com/v0/b/dep-2023-t17.appspot.com/o/2%2F1.1.png?alt=media&token=ed32c523-a41f-445d-85e1-aa55f56310f5\"}], \"medicines\": [], \"page_no\": 4, \"test\": []}}', 'PENDING', 'PENDING', 'PENDING', 'PENDING', 'PENDING', 'PENDING', 'PENDING', 'PENDING', 'PENDING', 'PENDING', 'PENDING', 'PENDING', 'PENDING', 'PENDING')\n",
      "(3, '2021csb1094@iitrpr.ac.in', '{\"user\": {\"Mobile_number\": \"919050477612\", \"address\": \"Indian Institute Of Technology Ropar Nangal Road Hussainpur\", \"ammount_details\": \"10000\", \"email\": \"2021csb1094@iitrpr.ac.in\", \"employee_code_no\": \"1\", \"martial_status\": \"no\", \"name\": \"hitesh\", \"page_no\": 1, \"partner_place\": \"na\", \"pay\": \"100000\", \"place_fell_ill\": \"dsa\", \"relation\": \"hgjh\"}}', '', '', '', 'PENDING', 'PENDING', 'PENDING', 'PENDING', 'PENDING', 'PENDING', 'PENDING', 'PENDING', 'PENDING', 'PENDING', 'PENDING', 'PENDING', 'PENDING', 'PENDING')\n",
      "(4, '2021csb1110@iitrpr.ac.in', '{\"user\": {\"Mobile_number\": \"919024969752\", \"address\": \"Bhuriyon ki dhani, palasara\", \"ammount_details\": \"5000\", \"email\": \"2021csb1110@iitrpr.ac.in\", \"employee_code_no\": \"1\", \"martial_status\": \"na\", \"name\": \"Mohit meena\", \"page_no\": 1, \"partner_place\": \"na\", \"pay\": \"5000\", \"place_fell_ill\": \"dsa\", \"relation\": \"asf\"}}', '{\"user\": {\"costMedicine\": \"5000\", \"email\": \"2021csb1110@iitrpr.ac.in\", \"hospitalName\": \"na\", \"name\": \"Mas\", \"numDatesFeeCon\": \"na\", \"numDatesFeeInj\": \"na\", \"page_no\": 2}}', '{\"user\": {\"amountClaimed\": \"5000\", \"date\": \"2024-02-20\", \"email\": \"2021csb1110@iitrpr.ac.in\", \"lessAdvTaken\": \"1000\", \"lstOfEncl\": \"na\", \"name\": \"Mas\", \"netAmntClaimed\": \"1000\", \"numDateCon\": \"na\", \"page_no\": 3}}', '{\"user\": {\"date\": \"2024-02-21\", \"email\": \"2021csb1110@iitrpr.ac.in\", \"imgs\": [{\"name\": \"2.2.png\", \"url\": \"https://firebasestorage.googleapis.com/v0/b/dep-2023-t17.appspot.com/o/4%2F2.2.png?alt=media&token=92d6c354-40b9-47dd-b2b6-af8a79bfd3f1\"}, {\"name\": \"1.1.png\", \"url\": \"https://firebasestorage.googleapis.com/v0/b/dep-2023-t17.appspot.com/o/4%2F1.1.png?alt=media&token=518f2d77-f374-4beb-bbb3-195fe120f68b\"}], \"medicines\": [{\"medicine\": \"nanan\", \"price1\": \"400\"}], \"page_no\": 4, \"test\": [{\"price2\": \"400\", \"test\": \"blood \"}]}}', 'PENDING', 'PENDING', 'PENDING', 'PENDING', 'PENDING', 'PENDING', 'PENDING', 'PENDING', 'PENDING', 'PENDING', 'PENDING', 'PENDING', 'PENDING', 'PENDING')\n",
      "Query executed successfully\n",
      "None\n"
     ]
    }
   ],
   "source": [
    "query = \"\"\"\n",
    "    SELECT * from application;\n",
    "\"\"\"\n",
    "\n",
    "result = run_query(query)\n",
    "print(result)"
   ]
  },
  {
   "cell_type": "code",
   "execution_count": 31,
   "metadata": {},
   "outputs": [
    {
     "name": "stdout",
     "output_type": "stream",
     "text": [
      "Connected to the database\n",
      "('application_id', 'bigint', 'NO')\n",
      "('user_id', 'character varying', 'NO')\n",
      "('page1', 'character varying', 'YES')\n",
      "('page2', 'character varying', 'YES')\n",
      "('page3', 'character varying', 'YES')\n",
      "('page4', 'character varying', 'YES')\n",
      "('pharmacist', 'character varying', 'YES')\n",
      "('pharmacist_remarks', 'character varying', 'YES')\n",
      "('medical_officer', 'character varying', 'YES')\n",
      "('medical_officer_remarks', 'character varying', 'YES')\n",
      "('DA_JAO', 'character varying', 'YES')\n",
      "('DA_JAO_remarks', 'character varying', 'YES')\n",
      "('AO', 'character varying', 'YES')\n",
      "('AO_remarks', 'character varying', 'YES')\n",
      "('Sr_AO', 'character varying', 'YES')\n",
      "('Sr_AO_remarks', 'character varying', 'YES')\n",
      "('registrar', 'character varying', 'YES')\n",
      "('registrar_remarks', 'character varying', 'YES')\n",
      "('director', 'character varying', 'YES')\n",
      "('director_remarks', 'character varying', 'YES')\n",
      "Query executed successfully\n",
      "None\n"
     ]
    }
   ],
   "source": [
    "query = \"\"\"\n",
    "SELECT column_name, data_type, is_nullable\n",
    "FROM information_schema.columns\n",
    "WHERE table_name = 'application';\n",
    "\n",
    "\n",
    "\"\"\"\n",
    "result = run_query(query)\n",
    "print(result)"
   ]
  },
  {
   "cell_type": "code",
   "execution_count": 29,
   "metadata": {},
   "outputs": [
    {
     "ename": "JSONDecodeError",
     "evalue": "Expecting ',' delimiter: line 7 column 10 (char 75)",
     "output_type": "error",
     "traceback": [
      "\u001b[1;31m---------------------------------------------------------------------------\u001b[0m",
      "\u001b[1;31mJSONDecodeError\u001b[0m                           Traceback (most recent call last)",
      "Cell \u001b[1;32mIn[29], line 35\u001b[0m\n\u001b[0;32m      4\u001b[0m response \u001b[38;5;241m=\u001b[39m \u001b[38;5;124m'''\u001b[39m\n\u001b[0;32m      5\u001b[0m \u001b[38;5;124m{\u001b[39m\n\u001b[0;32m      6\u001b[0m \u001b[38;5;124m  \u001b[39m\u001b[38;5;124m\"\u001b[39m\u001b[38;5;124mresult\u001b[39m\u001b[38;5;124m\"\u001b[39m\u001b[38;5;124m: [\u001b[39m\n\u001b[1;32m   (...)\u001b[0m\n\u001b[0;32m     31\u001b[0m \u001b[38;5;124m}\u001b[39m\n\u001b[0;32m     32\u001b[0m \u001b[38;5;124m'''\u001b[39m\n\u001b[0;32m     34\u001b[0m \u001b[38;5;66;03m# Parse the JSON response\u001b[39;00m\n\u001b[1;32m---> 35\u001b[0m data \u001b[38;5;241m=\u001b[39m \u001b[43mjson\u001b[49m\u001b[38;5;241;43m.\u001b[39;49m\u001b[43mloads\u001b[49m\u001b[43m(\u001b[49m\u001b[43mresponse\u001b[49m\u001b[43m)\u001b[49m\n\u001b[0;32m     37\u001b[0m \u001b[38;5;66;03m# Extracting details from the result\u001b[39;00m\n\u001b[0;32m     38\u001b[0m result \u001b[38;5;241m=\u001b[39m data[\u001b[38;5;124m\"\u001b[39m\u001b[38;5;124mresult\u001b[39m\u001b[38;5;124m\"\u001b[39m][\u001b[38;5;241m0\u001b[39m]  \u001b[38;5;66;03m# Assuming there's only one item in \"result\"\u001b[39;00m\n",
      "File \u001b[1;32mc:\\Users\\bhuri\\AppData\\Local\\Programs\\Python\\Python310\\lib\\json\\__init__.py:346\u001b[0m, in \u001b[0;36mloads\u001b[1;34m(s, cls, object_hook, parse_float, parse_int, parse_constant, object_pairs_hook, **kw)\u001b[0m\n\u001b[0;32m    341\u001b[0m     s \u001b[38;5;241m=\u001b[39m s\u001b[38;5;241m.\u001b[39mdecode(detect_encoding(s), \u001b[38;5;124m'\u001b[39m\u001b[38;5;124msurrogatepass\u001b[39m\u001b[38;5;124m'\u001b[39m)\n\u001b[0;32m    343\u001b[0m \u001b[38;5;28;01mif\u001b[39;00m (\u001b[38;5;28mcls\u001b[39m \u001b[38;5;129;01mis\u001b[39;00m \u001b[38;5;28;01mNone\u001b[39;00m \u001b[38;5;129;01mand\u001b[39;00m object_hook \u001b[38;5;129;01mis\u001b[39;00m \u001b[38;5;28;01mNone\u001b[39;00m \u001b[38;5;129;01mand\u001b[39;00m\n\u001b[0;32m    344\u001b[0m         parse_int \u001b[38;5;129;01mis\u001b[39;00m \u001b[38;5;28;01mNone\u001b[39;00m \u001b[38;5;129;01mand\u001b[39;00m parse_float \u001b[38;5;129;01mis\u001b[39;00m \u001b[38;5;28;01mNone\u001b[39;00m \u001b[38;5;129;01mand\u001b[39;00m\n\u001b[0;32m    345\u001b[0m         parse_constant \u001b[38;5;129;01mis\u001b[39;00m \u001b[38;5;28;01mNone\u001b[39;00m \u001b[38;5;129;01mand\u001b[39;00m object_pairs_hook \u001b[38;5;129;01mis\u001b[39;00m \u001b[38;5;28;01mNone\u001b[39;00m \u001b[38;5;129;01mand\u001b[39;00m \u001b[38;5;129;01mnot\u001b[39;00m kw):\n\u001b[1;32m--> 346\u001b[0m     \u001b[38;5;28;01mreturn\u001b[39;00m \u001b[43m_default_decoder\u001b[49m\u001b[38;5;241;43m.\u001b[39;49m\u001b[43mdecode\u001b[49m\u001b[43m(\u001b[49m\u001b[43ms\u001b[49m\u001b[43m)\u001b[49m\n\u001b[0;32m    347\u001b[0m \u001b[38;5;28;01mif\u001b[39;00m \u001b[38;5;28mcls\u001b[39m \u001b[38;5;129;01mis\u001b[39;00m \u001b[38;5;28;01mNone\u001b[39;00m:\n\u001b[0;32m    348\u001b[0m     \u001b[38;5;28mcls\u001b[39m \u001b[38;5;241m=\u001b[39m JSONDecoder\n",
      "File \u001b[1;32mc:\\Users\\bhuri\\AppData\\Local\\Programs\\Python\\Python310\\lib\\json\\decoder.py:337\u001b[0m, in \u001b[0;36mJSONDecoder.decode\u001b[1;34m(self, s, _w)\u001b[0m\n\u001b[0;32m    332\u001b[0m \u001b[38;5;28;01mdef\u001b[39;00m \u001b[38;5;21mdecode\u001b[39m(\u001b[38;5;28mself\u001b[39m, s, _w\u001b[38;5;241m=\u001b[39mWHITESPACE\u001b[38;5;241m.\u001b[39mmatch):\n\u001b[0;32m    333\u001b[0m \u001b[38;5;250m    \u001b[39m\u001b[38;5;124;03m\"\"\"Return the Python representation of ``s`` (a ``str`` instance\u001b[39;00m\n\u001b[0;32m    334\u001b[0m \u001b[38;5;124;03m    containing a JSON document).\u001b[39;00m\n\u001b[0;32m    335\u001b[0m \n\u001b[0;32m    336\u001b[0m \u001b[38;5;124;03m    \"\"\"\u001b[39;00m\n\u001b[1;32m--> 337\u001b[0m     obj, end \u001b[38;5;241m=\u001b[39m \u001b[38;5;28;43mself\u001b[39;49m\u001b[38;5;241;43m.\u001b[39;49m\u001b[43mraw_decode\u001b[49m\u001b[43m(\u001b[49m\u001b[43ms\u001b[49m\u001b[43m,\u001b[49m\u001b[43m \u001b[49m\u001b[43midx\u001b[49m\u001b[38;5;241;43m=\u001b[39;49m\u001b[43m_w\u001b[49m\u001b[43m(\u001b[49m\u001b[43ms\u001b[49m\u001b[43m,\u001b[49m\u001b[43m \u001b[49m\u001b[38;5;241;43m0\u001b[39;49m\u001b[43m)\u001b[49m\u001b[38;5;241;43m.\u001b[39;49m\u001b[43mend\u001b[49m\u001b[43m(\u001b[49m\u001b[43m)\u001b[49m\u001b[43m)\u001b[49m\n\u001b[0;32m    338\u001b[0m     end \u001b[38;5;241m=\u001b[39m _w(s, end)\u001b[38;5;241m.\u001b[39mend()\n\u001b[0;32m    339\u001b[0m     \u001b[38;5;28;01mif\u001b[39;00m end \u001b[38;5;241m!=\u001b[39m \u001b[38;5;28mlen\u001b[39m(s):\n",
      "File \u001b[1;32mc:\\Users\\bhuri\\AppData\\Local\\Programs\\Python\\Python310\\lib\\json\\decoder.py:353\u001b[0m, in \u001b[0;36mJSONDecoder.raw_decode\u001b[1;34m(self, s, idx)\u001b[0m\n\u001b[0;32m    344\u001b[0m \u001b[38;5;250m\u001b[39m\u001b[38;5;124;03m\"\"\"Decode a JSON document from ``s`` (a ``str`` beginning with\u001b[39;00m\n\u001b[0;32m    345\u001b[0m \u001b[38;5;124;03ma JSON document) and return a 2-tuple of the Python\u001b[39;00m\n\u001b[0;32m    346\u001b[0m \u001b[38;5;124;03mrepresentation and the index in ``s`` where the document ended.\u001b[39;00m\n\u001b[1;32m   (...)\u001b[0m\n\u001b[0;32m    350\u001b[0m \n\u001b[0;32m    351\u001b[0m \u001b[38;5;124;03m\"\"\"\u001b[39;00m\n\u001b[0;32m    352\u001b[0m \u001b[38;5;28;01mtry\u001b[39;00m:\n\u001b[1;32m--> 353\u001b[0m     obj, end \u001b[38;5;241m=\u001b[39m \u001b[38;5;28;43mself\u001b[39;49m\u001b[38;5;241;43m.\u001b[39;49m\u001b[43mscan_once\u001b[49m\u001b[43m(\u001b[49m\u001b[43ms\u001b[49m\u001b[43m,\u001b[49m\u001b[43m \u001b[49m\u001b[43midx\u001b[49m\u001b[43m)\u001b[49m\n\u001b[0;32m    354\u001b[0m \u001b[38;5;28;01mexcept\u001b[39;00m \u001b[38;5;167;01mStopIteration\u001b[39;00m \u001b[38;5;28;01mas\u001b[39;00m err:\n\u001b[0;32m    355\u001b[0m     \u001b[38;5;28;01mraise\u001b[39;00m JSONDecodeError(\u001b[38;5;124m\"\u001b[39m\u001b[38;5;124mExpecting value\u001b[39m\u001b[38;5;124m\"\u001b[39m, s, err\u001b[38;5;241m.\u001b[39mvalue) \u001b[38;5;28;01mfrom\u001b[39;00m \u001b[38;5;28;01mNone\u001b[39;00m\n",
      "\u001b[1;31mJSONDecodeError\u001b[0m: Expecting ',' delimiter: line 7 column 10 (char 75)"
     ]
    }
   ],
   "source": [
    "import json\n",
    "\n",
    "# Provided JSON response\n",
    "response = '''\n",
    "{\n",
    "  \"result\": [\n",
    "    [\n",
    "      5,\n",
    "      \"2021csb1094@iitrpr.ac.in\",\n",
    "      \"{\\\"user\\\": {\\\"Mobile_number\\\": \\\"919050477612\\\", \\\"address\\\": \\\"Indian Institute Of Technology Ropar Nangal Road Hussainpur\\\", \\\"ammount_details\\\": \\\"1\\\", \\\"email\\\": \\\"2021csb1094@iitrpr.ac.in\\\", \\\"employee_code_no\\\": \\\"1\\\", \\\"martial_status\\\": \\\"no\\\", \\\"name\\\": \\\"hitesh\\\", \\\"page_no\\\": 1, \\\"partner_place\\\": \\\"na\\\", \\\"pay\\\": \\\"100000\\\", \\\"place_fell_ill\\\": \\\"1\\\", \\\"relation\\\": \\\"1\\\"}}\",\n",
    "      \"{\\\"user\\\": {\\\"costMedicine\\\": \\\"1\\\", \\\"email\\\": \\\"2021csb1094@iitrpr.ac.in\\\", \\\"hospitalName\\\": \\\"1\\\", \\\"name\\\": \\\"1\\\", \\\"numDatesFeeCon\\\": \\\"1\\\", \\\"numDatesFeeInj\\\": \\\"1\\\", \\\"page_no\\\": 2}}\",\n",
    "      \"{\\\"user\\\": {\\\"amountClaimed\\\": \\\"1\\\", \\\"date\\\": \\\"2024-02-25\\\", \\\"email\\\": \\\"2021csb1094@iitrpr.ac.in\\\", \\\"lessAdvTaken\\\": \\\"3\\\", \\\"lstOfEncl\\\": \\\"11\\\", \\\"name\\\": \\\"1\\\", \\\"netAmntClaimed\\\": \\\"1\\\", \\\"numDateCon\\\": \\\"1\\\", \\\"page_no\\\": 3}}\",\n",
    "      \"{\\\"user\\\": {\\\"date\\\": \\\"2024-02-25\\\", \\\"email\\\": \\\"2021csb1094@iitrpr.ac.in\\\", \\\"imgs\\\": [{\\\"name\\\": \\\"20.8.png\\\", \\\"url\\\": \\\"https://firebasestorage.googleapis.com/v0/b/dep-2023-t17.appspot.com/o/5%2F20.8.png?alt=media&token=22bb480d-85e4-4c87-886a-2c681ee3edfc\\\"}], \\\"medicines\\\": [{\\\"medicine\\\": \\\"1\\\", \\\"price1\\\": \\\"1\\\"}], \\\"page_no\\\": 4, \\\"test\\\": []}}\",\n",
    "      \"PENDING\",\n",
    "      \"PENDING\",\n",
    "      \"PENDING\",\n",
    "      \"PENDING\",\n",
    "      \"PENDING\",\n",
    "      \"PENDING\",\n",
    "      \"PENDING\",\n",
    "      \"PENDING\",\n",
    "      \"PENDING\",\n",
    "      \"PENDING\",\n",
    "      \"PENDING\",\n",
    "      \"PENDING\",\n",
    "      \"PENDING\",\n",
    "      \"PENDING\"\n",
    "    ]\n",
    "  ],\n",
    "  \"status\": \"ok\"\n",
    "}\n",
    "'''\n",
    "\n",
    "# Parse the JSON response\n",
    "data = json.loads(response)\n",
    "\n",
    "# Extracting details from the result\n",
    "result = data[\"result\"][0]  # Assuming there's only one item in \"result\"\n",
    "application_id = result[0]\n",
    "date_claimed = json.loads(result[3])[\"user\"][\"date\"]\n",
    "net_amount_claimed = json.loads(result[4])[\"user\"][\"netAmntClaimed\"]\n",
    "status = result[6]\n",
    "\n",
    "# Printing the extracted details\n",
    "print(\"Application ID:\", application_id)\n",
    "print(\"Date Claimed:\", date_claimed)\n",
    "print(\"Net Amount Claimed:\", net_amount_claimed)\n",
    "print(\"Status:\", status)\n"
   ]
  }
 ],
 "metadata": {
  "kernelspec": {
   "display_name": "Python 3",
   "language": "python",
   "name": "python3"
  },
  "language_info": {
   "codemirror_mode": {
    "name": "ipython",
    "version": 3
   },
   "file_extension": ".py",
   "mimetype": "text/x-python",
   "name": "python",
   "nbconvert_exporter": "python",
   "pygments_lexer": "ipython3",
   "version": "3.10.1"
  }
 },
 "nbformat": 4,
 "nbformat_minor": 2
}
