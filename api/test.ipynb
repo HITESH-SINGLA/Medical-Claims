{
 "cells": [
  {
   "cell_type": "code",
   "execution_count": null,
   "metadata": {},
   "outputs": [],
   "source": [
    "\n"
   ]
  },
  {
   "cell_type": "code",
   "execution_count": 24,
   "metadata": {},
   "outputs": [],
   "source": [
    "from database import get_database"
   ]
  },
  {
   "cell_type": "code",
   "execution_count": 25,
   "metadata": {},
   "outputs": [
    {
     "ename": "NameError",
     "evalue": "name 'username' is not defined",
     "output_type": "error",
     "traceback": [
      "\u001b[1;31m---------------------------------------------------------------------------\u001b[0m",
      "\u001b[1;31mNameError\u001b[0m                                 Traceback (most recent call last)",
      "Cell \u001b[1;32mIn[25], line 1\u001b[0m\n\u001b[1;32m----> 1\u001b[0m conn \u001b[38;5;241m=\u001b[39m get_database(\u001b[43musername\u001b[49m, password)\n",
      "\u001b[1;31mNameError\u001b[0m: name 'username' is not defined"
     ]
    }
   ],
   "source": [
    "conn = get_database(username, password)"
   ]
  },
  {
   "cell_type": "code",
   "execution_count": 1,
   "metadata": {},
   "outputs": [],
   "source": [
    "import psycopg2\n",
    "\n",
    "def get_db_connection():\n",
    "    try:\n",
    "        # Update the connection parameters according to your database\n",
    "        connection = psycopg2.connect(\n",
    "            dbname=\"ccllhwkz\",\n",
    "            user=\"ccllhwkz\",\n",
    "            password=\"L95oB6NUPitwNQfsCBb4fqhYkFtu1oAS\",\n",
    "            host=\"abul.db.elephantsql.com\"\n",
    "        )\n",
    "        print(\"Connected to the database\")\n",
    "        return connection\n",
    "    except psycopg2.Error as e:\n",
    "        print(\"Error connecting to the database:\", e)\n",
    "        return None\n",
    "\n"
   ]
  },
  {
   "cell_type": "code",
   "execution_count": 2,
   "metadata": {},
   "outputs": [],
   "source": [
    "def run_query(query):\n",
    "    connection = get_db_connection()\n",
    "    if connection is not None:\n",
    "        try:\n",
    "            cursor = connection.cursor()\n",
    "            cursor.execute(query)\n",
    "            result = cursor.fetchall()  # Fetch all rows from the result set\n",
    "            for row in result:\n",
    "                print(row)  # Print each row\n",
    "            print(\"Query executed successfully\")\n",
    "        except psycopg2.Error as e:\n",
    "            print(\"Error executing query:\", e)\n",
    "        finally:\n",
    "            connection.close()\n",
    "\n",
    "\n"
   ]
  },
  {
   "cell_type": "code",
   "execution_count": 37,
   "metadata": {},
   "outputs": [
    {
     "name": "stdout",
     "output_type": "stream",
     "text": [
      "Connected to the database\n",
      "Dummy entries inserted into the login table successfully.\n",
      "Connected to the database\n",
      "Dummy entries inserted into the data table successfully.\n"
     ]
    }
   ],
   "source": [
    "def insert_dummy_data_entries():\n",
    "    try:\n",
    "        connection = get_db_connection()  # Replace with your function to get a database connection\n",
    "        cursor = connection.cursor()\n",
    "        \n",
    "        # Insert three dummy entries into the data table\n",
    "        for i in range(1, 4):\n",
    "            cursor.execute(\"INSERT INTO data (application_id, table_data) VALUES (%s, 'Dummy data %s')\" % (i, i))\n",
    "        \n",
    "        # Commit the transaction\n",
    "        connection.commit()\n",
    "        \n",
    "        # Close the cursor and connection\n",
    "        cursor.close()\n",
    "        connection.close()\n",
    "        \n",
    "        print(\"Dummy entries inserted into the data table successfully.\")\n",
    "        \n",
    "    except psycopg2.Error as e:\n",
    "        print(\"Error:\", e)\n",
    "def insert_dummy_login_entries():\n",
    "    try:\n",
    "        connection = get_db_connection()  # Replace with your function to get a database connection\n",
    "        cursor = connection.cursor()\n",
    "        \n",
    "        # Insert three dummy entries into the login table\n",
    "        cursor.execute(\"INSERT INTO login (email) VALUES ('user1@example.com'), ('user2@example.com'), ('user3@example.com')\")\n",
    "        \n",
    "        # Commit the transaction\n",
    "        connection.commit()\n",
    "        \n",
    "        # Close the cursor and connection\n",
    "        cursor.close()\n",
    "        connection.close()\n",
    "        \n",
    "        print(\"Dummy entries inserted into the login table successfully.\")\n",
    "        \n",
    "    except psycopg2.Error as e:\n",
    "        print(\"Error:\", e)\n",
    "insert_dummy_login_entries()\n",
    "insert_dummy_data_entries()\n",
    "# Call functions for basicdetails and application tables here\n"
   ]
  },
  {
   "cell_type": "code",
   "execution_count": 4,
   "metadata": {},
   "outputs": [
    {
     "name": "stdout",
     "output_type": "stream",
     "text": [
      "Connected to the database\n",
      "('application_id', 'bigint')\n",
      "('user_id', 'character varying')\n",
      "('page1', 'character varying')\n",
      "('page2', 'character varying')\n",
      "('page3', 'character varying')\n",
      "('page4', 'character varying')\n",
      "('pharmacist', 'character varying')\n",
      "('pharmacist_remarks', 'character varying')\n",
      "('medical_officer', 'character varying')\n",
      "('medical_officer_remarks', 'character varying')\n",
      "('DA_JAO', 'character varying')\n",
      "('DA_JAO_remarks', 'character varying')\n",
      "('AO', 'character varying')\n",
      "('AO_remarks', 'character varying')\n",
      "('Sr_AO', 'character varying')\n",
      "('Sr_AO_remarks', 'character varying')\n",
      "('registrar', 'character varying')\n",
      "('registrar_remarks', 'character varying')\n",
      "('director', 'character varying')\n",
      "('director_remarks', 'character varying')\n",
      "Query executed successfully\n",
      "None\n"
     ]
    }
   ],
   "source": [
    "query = \"\"\"\n",
    "    SELECT column_name, data_type\n",
    "    FROM information_schema.columns\n",
    "    WHERE table_name = 'application';\n",
    "\"\"\"\n",
    "\n",
    "result = run_query(query)\n",
    "print(result)"
   ]
  }
 ],
 "metadata": {
  "kernelspec": {
   "display_name": "Python 3",
   "language": "python",
   "name": "python3"
  },
  "language_info": {
   "codemirror_mode": {
    "name": "ipython",
    "version": 3
   },
   "file_extension": ".py",
   "mimetype": "text/x-python",
   "name": "python",
   "nbconvert_exporter": "python",
   "pygments_lexer": "ipython3",
   "version": "3.10.1"
  }
 },
 "nbformat": 4,
 "nbformat_minor": 2
}
